{
 "cells": [
  {
   "cell_type": "code",
   "execution_count": null,
   "id": "1a7935f8",
   "metadata": {},
   "outputs": [],
   "source": [
    "# install required packages\n",
    "%pip install biopython\n",
    "# %pip install tensorflow"
   ]
  },
  {
   "cell_type": "code",
   "execution_count": 9,
   "id": "27746f91",
   "metadata": {},
   "outputs": [],
   "source": [
    "from Bio import SeqIO\n",
    "\n",
    "data_file = \"sample_datasets/small_sequences.fasta\"\n",
    "processed_output_directory = \"full_datasets/preprocessed/small_sequences/\"\n",
    "codon_input_length = 5 # number of codons to input to the model"
   ]
  },
  {
   "cell_type": "code",
   "execution_count": 11,
   "id": "854f5e46",
   "metadata": {},
   "outputs": [],
   "source": [
    "# map the string to a one-hot encoding by codons\n",
    "def getMapping():\n",
    "    chars = [\"A\", \"C\", \"G\", \"T\"]\n",
    "    mapping = {}\n",
    "    for i in range(64):\n",
    "        seq = chars[(i//16)%4] + chars[(i//4)%4] + chars[i%4]\n",
    "        arr = [0]*64\n",
    "        arr[i] = 1\n",
    "        mapping[seq] = arr\n",
    "    return mapping\n",
    "\n",
    "def encode(seq, mapping):\n",
    "    output = []\n",
    "    for i in range(0, len(seq), 3):\n",
    "        codon = seq[i:i+3]\n",
    "        if codon in mapping:\n",
    "            output.append(mapping[codon])\n",
    "        elif len(seq) - i > 3:\n",
    "            raise Exception(\"You should not be here\")\n",
    "    return output\n",
    "    # return [mapping[seq[i:i+3]] for i in range(0, len(seq), 3)]\n",
    "# select and generate samples for dataset.\n",
    "def helper():\n",
    "    mapping = getMapping()\n",
    "    sequences = SeqIO.parse(data_file, \"fasta\")\n",
    "    # for seq in sequences:\n",
    "    seq = next(sequences)\n",
    "    strings = str(seq.seq).split(\"N\")\n",
    "    for st in strings:\n",
    "        if len(st) < codon_input_length + 1:\n",
    "            continue\n",
    "        encoded = encode(st, mapping)\n",
    "        for i in range(len(encoded) - codon_input_length):\n",
    "            yield (encoded[i:i+codon_input_length], encoded[i+codon_input_length])\n",
    "count = 0\n",
    "for (x, y) in helper():\n",
    "    x_filename = processed_output_directory + str(count) + '_x.txt'\n",
    "    y_filename = processed_output_directory + str(count) + '_y.txt'\n",
    "    with open(x_filename, 'w') as x_file:\n",
    "        x_file.write(str(x))\n",
    "    with open(y_filename, 'w') as y_file:\n",
    "        y_file.write(str(y))\n",
    "    count += 1"
   ]
  }
 ],
 "metadata": {
  "kernelspec": {
   "display_name": "Python 3 (ipykernel)",
   "language": "python",
   "name": "python3"
  },
  "language_info": {
   "codemirror_mode": {
    "name": "ipython",
    "version": 3
   },
   "file_extension": ".py",
   "mimetype": "text/x-python",
   "name": "python",
   "nbconvert_exporter": "python",
   "pygments_lexer": "ipython3",
   "version": "3.9.16"
  }
 },
 "nbformat": 4,
 "nbformat_minor": 5
}
